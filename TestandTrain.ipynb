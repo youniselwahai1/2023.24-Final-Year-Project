{
  "nbformat": 4,
  "nbformat_minor": 0,
  "metadata": {
    "colab": {
      "provenance": [],
      "mount_file_id": "1Q4_umgZeMFuJ2-snhJU8cHyPrH0w8Pq0",
      "authorship_tag": "ABX9TyPZD33fhtim1qt0EaSdxuK0",
      "include_colab_link": true
    },
    "kernelspec": {
      "name": "python3",
      "display_name": "Python 3"
    },
    "language_info": {
      "name": "python"
    }
  },
  "cells": [
    {
      "cell_type": "markdown",
      "metadata": {
        "id": "view-in-github",
        "colab_type": "text"
      },
      "source": [
        "<a href=\"https://colab.research.google.com/github/youniselwahai1/2023.24-Final-Year-Project/blob/main/TestandTrain.ipynb\" target=\"_parent\"><img src=\"https://colab.research.google.com/assets/colab-badge.svg\" alt=\"Open In Colab\"/></a>"
      ]
    },
    {
      "cell_type": "code",
      "source": [
        "# Defining the needed file paths (dataset which was downloaded on https://www.kaggle.com/datasets/ghousethanedar/smiledetection/data) this files has images used in non-smile, smile, and test folders\n",
        "non_smile_folder = '/content/drive/MyDrive/smilefakeandreal/non_smile/'\n",
        "smile_folder = '/content/drive/MyDrive/smilefakeandreal/smile/'\n",
        "test_folder = '/content/drive/MyDrive/smilefakeandreal/test/'"
      ],
      "metadata": {
        "id": "szcpoGC_9MnW"
      },
      "execution_count": null,
      "outputs": []
    },
    {
      "cell_type": "code",
      "source": [
        "# Importing the needed libraries for the test and training for the datset of smiles and non smiles\n",
        "import numpy as np\n",
        "import cv2  #  CV2 is very important as it an OpenCV library used in image processing which is requered\n",
        "from imutils import paths  #  this is needed for file paths as we are using google drive to save the folder\n",
        "from tensorflow.keras.preprocessing.image import img_to_array, ImageDataGenerator  #  image data\n",
        "\n",
        "# data extractor is a useful function which has the ability to extract the dataset image which in this cas is locacted from a folder\n",
        "def data_extractor(folder_path, label):\n",
        "    # getting the list\n",
        "    image_paths = list(paths.list_images(folder_path))\n",
        "\n",
        "    # here i am able to save the dataset images  and corresponding labels\n",
        "    data = []  # saving the stored pics\n",
        "    labels = []  # putting into smile or non-smile using the corresponding labels\n",
        "\n",
        "    # here the code is able to iterate on every single each image path in the folder which would take some time as i have a meduim sized dataset\n",
        "    for image_path in image_paths:\n",
        "        # we used cv2 so for that reason we are able to use the image to be read by using the function called using OpenCV\n",
        "        image = cv2.imread(image_path)\n",
        "\n",
        "        # images to be tested and trained well it must be standerd pixels so for that matter we are bale to resize and the right pixs is 100x100\n",
        "        image = cv2.resize(image, (100, 100)) #pixs is 100x100\n",
        "\n",
        "        # convert images saved on dataset to be array and store it in the data list in this case\n",
        "        image = img_to_array(image) #putting image into array as required to test and train the dataset\n",
        "        data.append(image)\n",
        "\n",
        "        # the images need to be assigned into eather one of two provided labels which is simply smile or non-smile\n",
        "        labels.append(label)\n",
        "\n",
        "    # Converting to numpy to give output numbers\n",
        "    return np.array(data), np.array(labels)\n",
        "\n",
        "# here i am able to define the needed downloaded images paths to the dataset which would then extract\n",
        "non_smile_folder = '/content/drive/MyDrive/smilefakeandreal/non_smile/'\n",
        "smile_folder = '/content/drive/MyDrive/smilefakeandreal/smile/'\n",
        "test_folder = '/content/drive/MyDrive/smilefakeandreal/test/'\n",
        "\n",
        "# here is the main aspect of code as it is exctating the data which in this case would be tthe training data for non-smile images\n",
        "train_X, train_y = data_extractor(non_smile_folder, label=0)\n",
        "\n",
        "# now  i am able to extract test data  but i would use a basic method as its moe realiable to function as required\n",
        "test_X_smile, test_y_smile = data_extractor(smile_folder, label=1)\n",
        "test_X_non_smile, test_y_non_smile = data_extractor(non_smile_folder, label=0)\n",
        "\n",
        "# now with both tested data in this case would be te smile and non smile i could put them both into 1\n",
        "test_X = np.concatenate((test_X_smile, test_X_non_smile), axis=0)\n",
        "test_y = np.concatenate((test_y_smile, test_y_non_smile), axis=0)\n",
        "\n",
        "# testing could be reshaped incase there is an issue with the pixs\n",
        "test_y = test_y.reshape((-1, 1))\n",
        "\n",
        "# now the testing is complated i would be bale to output the tested information but adavnced level\n",
        "total_images = test_X.shape[0]  # Total number of images which is stored on testing\n",
        "smile_images = np.sum(test_y == 1)  # smile number\n",
        "non_smile_images = total_images - smile_images  # non smile number\n",
        "\n",
        "# using print statements which is simple but yet a good choice to show\n",
        "print(\" Test Information:\")\n",
        "print(f\"Total amount of downloaded images are currently: {total_images}\")\n",
        "print(f\"The current number of smile images: {smile_images}\")\n",
        "print(f\"The current number of non-smile images: {non_smile_images}\")\n",
        "print(\"Test Data (Images) Shape:\", test_X.shape)\n",
        "print(\"Test Labels Shape:\", test_y.shape)\n"
      ],
      "metadata": {
        "colab": {
          "base_uri": "https://localhost:8080/"
        },
        "id": "sJU5vahj0YOS",
        "outputId": "e7b19efa-8b2e-4996-93c2-eef4db6cea39"
      },
      "execution_count": null,
      "outputs": [
        {
          "output_type": "stream",
          "name": "stdout",
          "text": [
            " Test Information:\n",
            "Total amount of downloaded images are currently: 1203\n",
            "The current number of smile images: 600\n",
            "The current number of non-smile images: 603\n",
            "Test Data (Images) Shape: (1203, 100, 100, 3)\n",
            "Test Labels Shape: (1203, 1)\n"
          ]
        }
      ]
    },
    {
      "cell_type": "code",
      "source": [
        "import numpy as np\n",
        "import cv2\n",
        "from tensorflow.keras.models import Sequential\n",
        "from tensorflow.keras.layers import Conv2D, MaxPooling2D, Dropout, Flatten, Dense\n",
        "from tensorflow.keras.preprocessing.image import ImageDataGenerator\n",
        "import matplotlib.pyplot as plt\n",
        "import os\n",
        "\n",
        "# Function to load and preprocess images from a folder\n",
        "def load_images_from_folder(folder, label):\n",
        "    images = []\n",
        "    labels = []\n",
        "    for filename in os.listdir(folder):\n",
        "        img = cv2.imread(os.path.join(folder, filename))\n",
        "        if img is not None:\n",
        "            img = cv2.resize(img, (100, 100))  # Resize the image to (100, 100)\n",
        "            img = img.astype('float32') / 255.0  # Normalize pixel values to be between 0 and 1\n",
        "            images.append(img)\n",
        "            labels.append(label)  # Assign label based on argument 'label'\n",
        "    return np.array(images), np.array(labels)\n",
        "\n",
        "# Define folder paths\n",
        "non_smile_folder = '/content/drive/MyDrive/smilefakeandreal/non_smile/'\n",
        "smile_folder = '/content/drive/MyDrive/smilefakeandreal/smile/'\n",
        "test_folder = '/content/drive/MyDrive/smilefakeandreal/test/'\n",
        "\n",
        "# Load images from folders\n",
        "non_smile_images, non_smile_labels = load_images_from_folder(non_smile_folder, label=0)\n",
        "smile_images, smile_labels = load_images_from_folder(smile_folder, label=1)\n",
        "test_images, test_labels = load_images_from_folder(test_folder, label=2)\n",
        "\n",
        "# Concatenate smile and non-smile images and labels for test data\n",
        "test_X = np.concatenate((smile_images, non_smile_images), axis=0)\n",
        "test_y = np.concatenate((smile_labels, non_smile_labels), axis=0)\n",
        "\n",
        "# Reshape test labels if needed\n",
        "test_y = test_y.reshape((-1, 1))\n",
        "\n",
        "# Define your model architecture\n",
        "model = Sequential([\n",
        "    Conv2D(32, (3, 3), activation='relu', input_shape=(100, 100, 3)),\n",
        "    MaxPooling2D((2, 2)),\n",
        "    Conv2D(64, (3, 3), activation='relu'),\n",
        "    MaxPooling2D((2, 2)),\n",
        "    Conv2D(128, (3, 3), activation='relu'),\n",
        "    MaxPooling2D((2, 2)),\n",
        "    Flatten(),\n",
        "    Dense(128, activation='relu'),\n",
        "    Dropout(0.5),\n",
        "    Dense(1, activation='sigmoid')\n",
        "])\n",
        "\n",
        "# Compile the model\n",
        "model.compile(optimizer='adam', loss='binary_crossentropy', metrics=['accuracy'])\n",
        "\n",
        "# Data augmentation\n",
        "datagen = ImageDataGenerator(\n",
        "    rotation_range=30,\n",
        "    width_shift_range=0.2,\n",
        "    height_shift_range=0.2,\n",
        "    shear_range=0.2,\n",
        "    zoom_range=0.2,\n",
        "    horizontal_flip=True\n",
        ")\n",
        "\n",
        "# Train the model\n",
        "history = model.fit(datagen.flow(non_smile_images, non_smile_labels, batch_size=32),\n",
        "                    epochs=15, validation_data=(test_X, test_y), verbose=1)\n",
        "\n",
        "# Evaluate the model\n",
        "test_loss, test_acc = model.evaluate(test_X, test_y)\n",
        "print(f\"Test accuracy: {test_acc}\")\n",
        "\n",
        "# Function to plot accuracy and loss curves\n",
        "def plot_curves(history):\n",
        "    plt.figure(figsize=(12, 4))\n",
        "\n",
        "    # Training and validation accuracy plot\n",
        "    plt.subplot(1, 2, 1)\n",
        "    plt.plot(history.history['accuracy'], label='Training Accuracy')\n",
        "    plt.plot(history.history['val_accuracy'], label='Validation Accuracy')\n",
        "    plt.title('Training and Validation Accuracy')\n",
        "    plt.xlabel('Epoch')\n",
        "    plt.ylabel('Accuracy')\n",
        "    plt.legend()\n",
        "\n",
        "    # Training and validation loss plot\n",
        "    plt.subplot(1, 2, 2)\n",
        "    plt.plot(history.history['loss'], label='Training Loss')\n",
        "    plt.plot(history.history['val_loss'], label='Validation Loss')\n",
        "    plt.title('Training and Validation Loss')\n",
        "    plt.xlabel('Epoch')\n",
        "    plt.ylabel('Loss')\n",
        "    plt.legend()\n",
        "\n",
        "    plt.tight_layout()\n",
        "    plt.show()\n",
        "\n",
        "# Plot accuracy and loss curves\n",
        "plot_curves(history)\n"
      ],
      "metadata": {
        "colab": {
          "base_uri": "https://localhost:8080/"
        },
        "id": "n4x4x9Crg7vV",
        "outputId": "c7c09b76-3b54-4e46-bb95-203e93998ade"
      },
      "execution_count": null,
      "outputs": [
        {
          "output_type": "stream",
          "name": "stdout",
          "text": [
            "Epoch 1/15\n",
            "19/19 [==============================] - 20s 988ms/step - loss: 0.0395 - accuracy: 0.9834 - val_loss: 73.2377 - val_accuracy: 0.5012\n",
            "Epoch 2/15\n",
            "19/19 [==============================] - 19s 996ms/step - loss: 1.2221e-32 - accuracy: 1.0000 - val_loss: 102.5627 - val_accuracy: 0.5012\n",
            "Epoch 3/15\n",
            "19/19 [==============================] - 22s 1s/step - loss: 1.5095e-37 - accuracy: 1.0000 - val_loss: 108.2159 - val_accuracy: 0.5012\n",
            "Epoch 4/15\n",
            "19/19 [==============================] - 18s 964ms/step - loss: 0.0000e+00 - accuracy: 1.0000 - val_loss: 109.1445 - val_accuracy: 0.5012\n",
            "Epoch 5/15\n",
            "19/19 [==============================] - 24s 1s/step - loss: 3.6346e-37 - accuracy: 1.0000 - val_loss: 109.2884 - val_accuracy: 0.5012\n",
            "Epoch 6/15\n",
            "19/19 [==============================] - 18s 989ms/step - loss: 0.0000e+00 - accuracy: 1.0000 - val_loss: 109.3101 - val_accuracy: 0.5012\n",
            "Epoch 7/15\n",
            "19/19 [==============================] - 18s 977ms/step - loss: 0.0000e+00 - accuracy: 1.0000 - val_loss: 109.3132 - val_accuracy: 0.5012\n",
            "Epoch 8/15\n",
            "19/19 [==============================] - 19s 992ms/step - loss: 3.8053e-35 - accuracy: 1.0000 - val_loss: 109.3134 - val_accuracy: 0.5012\n",
            "Epoch 9/15\n",
            "19/19 [==============================] - 22s 1s/step - loss: 0.0000e+00 - accuracy: 1.0000 - val_loss: 109.3134 - val_accuracy: 0.5012\n",
            "Epoch 10/15\n",
            "19/19 [==============================] - 18s 987ms/step - loss: 0.0000e+00 - accuracy: 1.0000 - val_loss: 109.3134 - val_accuracy: 0.5012\n",
            "Epoch 11/15\n",
            "19/19 [==============================] - 20s 1s/step - loss: 0.0000e+00 - accuracy: 1.0000 - val_loss: 109.3134 - val_accuracy: 0.5012\n",
            "Epoch 12/15\n",
            "19/19 [==============================] - 21s 1s/step - loss: 0.0000e+00 - accuracy: 1.0000 - val_loss: 109.3134 - val_accuracy: 0.5012\n",
            "Epoch 13/15\n",
            "19/19 [==============================] - 20s 1s/step - loss: 0.0000e+00 - accuracy: 1.0000 - val_loss: 109.3134 - val_accuracy: 0.5012\n",
            "Epoch 14/15\n",
            "19/19 [==============================] - 21s 1s/step - loss: 2.9687e-38 - accuracy: 1.0000 - val_loss: 109.3134 - val_accuracy: 0.5012\n",
            "Epoch 15/15\n",
            "19/19 [==============================] - 19s 1s/step - loss: 0.0000e+00 - accuracy: 1.0000 - val_loss: 109.3134 - val_accuracy: 0.5012\n",
            "38/38 [==============================] - 6s 168ms/step - loss: 109.3134 - accuracy: 0.5012\n",
            "Test accuracy: 0.5012468695640564\n"
          ]
        },
        {
          "output_type": "display_data",
          "data": {
            "text/plain": [
              "<Figure size 1200x400 with 2 Axes>"
            ],
            "image/png": "[encoded data removed]"
          },
          "metadata": {}
        }
      ]
    },
    {
      "cell_type": "code",
      "source": [
        "import cv2\n",
        "import matplotlib.pyplot as plt\n",
        "\n",
        "def detect_smiles(image_path):\n",
        "    face_cascade = cv2.CascadeClassifier(cv2.data.haarcascades + 'haarcascade_frontalface_default.xml')\n",
        "    smile_cascade = cv2.CascadeClassifier(cv2.data.haarcascades + 'haarcascade_smile.xml')\n",
        "\n",
        "    image = cv2.imread(image_path)\n",
        "    gray = cv2.cvtColor(image, cv2.COLOR_BGR2GRAY)\n",
        "\n",
        "    faces = face_cascade.detectMultiScale(gray, 1.3, 5)\n",
        "\n",
        "    for (x, y, w, h) in faces:\n",
        "        roi_gray = gray[y:y+h, x:x+w]\n",
        "        roi_color = image[y:y+h, x:x+w]\n",
        "\n",
        "        smiles = smile_cascade.detectMultiScale(roi_gray, scaleFactor=1.8, minNeighbors=20)\n",
        "\n",
        "        for (sx, sy, sw, sh) in smiles:\n",
        "            cv2.rectangle(roi_color, (sx, sy), (sx+sw, sy+sh), (0, 0, 255), 2)\n",
        "\n",
        "    image = cv2.cvtColor(image, cv2.COLOR_BGR2RGB)\n",
        "    plt.imshow(image)\n",
        "    plt.axis('off')\n",
        "    plt.show()\n",
        "\n",
        "image_path = '/content/drive/MyDrive/smilefakeandreal/smile/Jan_Bjoerklund_0001.jpg'\n",
        "detect_smiles(image_path)\n"
      ],
      "metadata": {
        "colab": {
          "base_uri": "https://localhost:8080/",
          "height": 406
        },
        "id": "-9xbP4oZMTbE",
        "outputId": "4d51646f-a6b5-4a2a-c58b-e22402c0a827"
      },
      "execution_count": null,
      "outputs": [
        {
          "output_type": "display_data",
          "data": {
            "text/plain": [
              "<Figure size 640x480 with 1 Axes>"
            ],
            "image/png": "[encoded data removed]"
          },
          "metadata": {}
        }
      ]
    },
    {
      "cell_type": "code",
      "source": [
        "import numpy as np\n",
        "import cv2\n",
        "from imutils import paths\n",
        "from tensorflow.keras.preprocessing.image import img_to_array\n",
        "from tensorflow.keras.models import Sequential\n",
        "from tensorflow.keras.layers import Dense, Flatten\n",
        "from tensorflow.keras.optimizers import Adam\n",
        "\n",
        "# Define paths to the dataset folders\n",
        "non_smile_folder = '/content/drive/MyDrive/smilefakeandreal/non_smile/'\n",
        "smile_folder = '/content/drive/MyDrive/smilefakeandreal/smile/'\n",
        "test_folder = '/content/drive/MyDrive/smilefakeandreal/test/'\n",
        "\n",
        "# Function to load and preprocess image data\n",
        "def load_images(folder_path, label):\n",
        "    image_paths = list(paths.list_images(folder_path))\n",
        "    data = []\n",
        "    labels = []\n",
        "    for image_path in image_paths:\n",
        "        image = cv2.imread(image_path)\n",
        "        image = cv2.resize(image, (100, 100))  # Resize images to 100x100 pixels\n",
        "        image = img_to_array(image)\n",
        "        data.append(image)\n",
        "        labels.append(label)\n",
        "    return np.array(data), np.array(labels)\n",
        "\n",
        "# Load data for training and testing\n",
        "train_X_non_smile, train_y_non_smile = load_images(non_smile_folder, label=0)\n",
        "train_X_smile, train_y_smile = load_images(smile_folder, label=1)\n",
        "\n",
        "train_X = np.concatenate((train_X_non_smile, train_X_smile), axis=0)\n",
        "train_y = np.concatenate((train_y_non_smile, train_y_smile), axis=0)\n",
        "\n",
        "test_X, test_y = load_images(test_folder, label=1)  # Load test data (smile images)\n",
        "\n",
        "# Define the AI model architecture\n",
        "model = Sequential([\n",
        "    Flatten(input_shape=(100, 100, 3)),\n",
        "    Dense(128, activation='relu'),\n",
        "    Dense(1, activation='sigmoid')\n",
        "])\n",
        "\n",
        "model.compile(optimizer=Adam(learning_rate=0.0001), loss='binary_crossentropy', metrics=['accuracy'])\n",
        "\n",
        "# Train the model\n",
        "model.fit(train_X, train_y, epochs=10, batch_size=32, validation_data=(test_X, test_y), verbose=1)\n",
        "\n",
        "# Evaluate the model\n",
        "test_loss, test_acc = model.evaluate(test_X, test_y)\n",
        "print(f\"Test accuracy: {test_acc}\")\n"
      ],
      "metadata": {
        "colab": {
          "base_uri": "https://localhost:8080/"
        },
        "id": "JhP-jcdU_Uaz",
        "outputId": "9844b241-3db5-4cc5-c36f-9846609520ab"
      },
      "execution_count": null,
      "outputs": [
        {
          "output_type": "stream",
          "name": "stdout",
          "text": [
            "Epoch 1/10\n",
            "38/38 [==============================] - 20s 506ms/step - loss: 127.2165 - accuracy: 0.4896 - val_loss: 1.3807 - val_accuracy: 0.8155\n",
            "Epoch 2/10\n",
            "38/38 [==============================] - 5s 137ms/step - loss: 5.4388 - accuracy: 0.6426 - val_loss: 2.3299 - val_accuracy: 0.7490\n",
            "Epoch 3/10\n",
            "38/38 [==============================] - 6s 164ms/step - loss: 2.6045 - accuracy: 0.7639 - val_loss: 5.0103 - val_accuracy: 0.5194\n",
            "Epoch 4/10\n",
            "38/38 [==============================] - 8s 207ms/step - loss: 5.0306 - accuracy: 0.6733 - val_loss: 10.9482 - val_accuracy: 0.3365\n",
            "Epoch 5/10\n",
            "38/38 [==============================] - 5s 139ms/step - loss: 1.5614 - accuracy: 0.8337 - val_loss: 24.0423 - val_accuracy: 0.1013\n",
            "Epoch 6/10\n",
            "38/38 [==============================] - 12s 330ms/step - loss: 1.3234 - accuracy: 0.8321 - val_loss: 18.3515 - val_accuracy: 0.1676\n",
            "Epoch 7/10\n",
            "38/38 [==============================] - 5s 142ms/step - loss: 1.4674 - accuracy: 0.8296 - val_loss: 10.5989 - val_accuracy: 0.3394\n",
            "Epoch 8/10\n",
            "38/38 [==============================] - 8s 226ms/step - loss: 0.8770 - accuracy: 0.8653 - val_loss: 11.0474 - val_accuracy: 0.3256\n",
            "Epoch 9/10\n",
            "38/38 [==============================] - 5s 139ms/step - loss: 0.9781 - accuracy: 0.8379 - val_loss: 16.0660 - val_accuracy: 0.1998\n",
            "Epoch 10/10\n",
            "38/38 [==============================] - 7s 187ms/step - loss: 1.2286 - accuracy: 0.8529 - val_loss: 0.7974 - val_accuracy: 0.9073\n",
            "376/376 [==============================] - 4s 10ms/step - loss: 0.7974 - accuracy: 0.9073\n",
            "Test accuracy: 0.9073150753974915\n"
          ]
        }
      ]
    }
  ]
}